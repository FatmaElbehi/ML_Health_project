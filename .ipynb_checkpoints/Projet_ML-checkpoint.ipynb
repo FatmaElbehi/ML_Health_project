{
 "cells": [
  {
   "cell_type": "markdown",
   "metadata": {},
   "source": [
    "# Projet Machine learning & Fouille des données "
   ]
  },
  {
   "cell_type": "raw",
   "metadata": {},
   "source": [
    "1) OBJECTIF:\n",
    "On se propose dans ce projet d'établir un modèle prédictif qui nous renseigne sur le profil des assurés suivant leurs données:\n",
    "1/Risqué (il va décéder)\n",
    "2/Non Risqué (il va survivre)\n",
    "Pour se faire Nous procédant par les étapes qui suivent.\n"
   ]
  },
  {
   "cell_type": "markdown",
   "metadata": {},
   "source": [
    "## Step1-Chargements des bibliothéques à utiliser.\n",
    "Pandas,Sklearn,Numpy,Matplot,Seaborn. (#itérative)"
   ]
  },
  {
   "cell_type": "code",
   "execution_count": 83,
   "metadata": {},
   "outputs": [],
   "source": [
    "import pandas as pd\n",
    "import numpy as np\n",
    "import matplotlib.pyplot as plt\n",
    "import seaborn as sns\n",
    "import sklearn\n",
    "from sklearn.model_selection import train_test_split\n",
    "from sklearn.linear_model import LogisticRegression\n",
    "from sklearn.tree import DecisionTreeClassifier\n",
    "from sklearn.neighbors import KNeighborsClassifier\n",
    "from sklearn.metrics import confusion_matrix, classification_report"
   ]
  },
  {
   "cell_type": "markdown",
   "metadata": {},
   "source": [
    "## Step2- Transformation des données en data Frame."
   ]
  },
  {
   "cell_type": "code",
   "execution_count": 84,
   "metadata": {
    "scrolled": false
   },
   "outputs": [
    {
     "data": {
      "text/html": [
       "<div>\n",
       "<style scoped>\n",
       "    .dataframe tbody tr th:only-of-type {\n",
       "        vertical-align: middle;\n",
       "    }\n",
       "\n",
       "    .dataframe tbody tr th {\n",
       "        vertical-align: top;\n",
       "    }\n",
       "\n",
       "    .dataframe thead th {\n",
       "        text-align: right;\n",
       "    }\n",
       "</style>\n",
       "<table border=\"1\" class=\"dataframe\">\n",
       "  <thead>\n",
       "    <tr style=\"text-align: right;\">\n",
       "      <th></th>\n",
       "      <th>ENTRY AGE</th>\n",
       "      <th>SEX</th>\n",
       "      <th>Policy Year</th>\n",
       "      <th>Smoker</th>\n",
       "      <th>Cadre</th>\n",
       "      <th>Health_state</th>\n",
       "      <th>Salary</th>\n",
       "      <th>Marital_Status</th>\n",
       "      <th>Death_Probability</th>\n",
       "      <th>High_death_risk</th>\n",
       "    </tr>\n",
       "  </thead>\n",
       "  <tbody>\n",
       "    <tr>\n",
       "      <th>0</th>\n",
       "      <td>36</td>\n",
       "      <td>F</td>\n",
       "      <td>4</td>\n",
       "      <td>1</td>\n",
       "      <td>NC</td>\n",
       "      <td>G</td>\n",
       "      <td>1443.0</td>\n",
       "      <td>M</td>\n",
       "      <td>0.0017</td>\n",
       "      <td>1</td>\n",
       "    </tr>\n",
       "    <tr>\n",
       "      <th>1</th>\n",
       "      <td>42</td>\n",
       "      <td>M</td>\n",
       "      <td>4</td>\n",
       "      <td>1</td>\n",
       "      <td>NC</td>\n",
       "      <td>G</td>\n",
       "      <td>1347.0</td>\n",
       "      <td>M</td>\n",
       "      <td>0.0025</td>\n",
       "      <td>1</td>\n",
       "    </tr>\n",
       "    <tr>\n",
       "      <th>2</th>\n",
       "      <td>40</td>\n",
       "      <td>M</td>\n",
       "      <td>4</td>\n",
       "      <td>0</td>\n",
       "      <td>NC</td>\n",
       "      <td>G</td>\n",
       "      <td>1212.0</td>\n",
       "      <td>S</td>\n",
       "      <td>0.0022</td>\n",
       "      <td>0</td>\n",
       "    </tr>\n",
       "    <tr>\n",
       "      <th>3</th>\n",
       "      <td>39</td>\n",
       "      <td>M</td>\n",
       "      <td>4</td>\n",
       "      <td>1</td>\n",
       "      <td>NC</td>\n",
       "      <td>NG</td>\n",
       "      <td>1411.0</td>\n",
       "      <td>M</td>\n",
       "      <td>0.0020</td>\n",
       "      <td>1</td>\n",
       "    </tr>\n",
       "    <tr>\n",
       "      <th>4</th>\n",
       "      <td>44</td>\n",
       "      <td>M</td>\n",
       "      <td>4</td>\n",
       "      <td>0</td>\n",
       "      <td>NC</td>\n",
       "      <td>G</td>\n",
       "      <td>1098.0</td>\n",
       "      <td>S</td>\n",
       "      <td>0.0030</td>\n",
       "      <td>0</td>\n",
       "    </tr>\n",
       "  </tbody>\n",
       "</table>\n",
       "</div>"
      ],
      "text/plain": [
       "   ENTRY AGE SEX  Policy Year  Smoker Cadre Health_state  Salary  \\\n",
       "0         36   F            4       1    NC            G  1443.0   \n",
       "1         42   M            4       1    NC            G  1347.0   \n",
       "2         40   M            4       0    NC            G  1212.0   \n",
       "3         39   M            4       1    NC           NG  1411.0   \n",
       "4         44   M            4       0    NC            G  1098.0   \n",
       "\n",
       "  Marital_Status  Death_Probability  High_death_risk  \n",
       "0              M             0.0017                1  \n",
       "1              M             0.0025                1  \n",
       "2              S             0.0022                0  \n",
       "3              M             0.0020                1  \n",
       "4              S             0.0030                0  "
      ]
     },
     "execution_count": 84,
     "metadata": {},
     "output_type": "execute_result"
    }
   ],
   "source": [
    "data = pd.read_csv(\"data.csv\",sep=\";\")\n",
    "data.head()\n",
    "#type(data)"
   ]
  },
  {
   "cell_type": "markdown",
   "metadata": {},
   "source": [
    "## Step3- Visualisation des données(Comprendre les données)"
   ]
  },
  {
   "cell_type": "code",
   "execution_count": 85,
   "metadata": {},
   "outputs": [
    {
     "data": {
      "text/plain": [
       "ENTRY AGE            155764\n",
       "SEX                  155764\n",
       "Policy Year          155764\n",
       "Smoker               155764\n",
       "Cadre                155764\n",
       "Health_state         155764\n",
       "Salary               151676\n",
       "Marital_Status       155537\n",
       "Death_Probability    155764\n",
       "High_death_risk      155764\n",
       "dtype: int64"
      ]
     },
     "execution_count": 85,
     "metadata": {},
     "output_type": "execute_result"
    }
   ],
   "source": [
    "#nombre des lignes\n",
    "data.count()"
   ]
  },
  {
   "cell_type": "code",
   "execution_count": 86,
   "metadata": {
    "scrolled": true
   },
   "outputs": [
    {
     "name": "stdout",
     "output_type": "stream",
     "text": [
      "<class 'pandas.core.frame.DataFrame'>\n",
      "RangeIndex: 155764 entries, 0 to 155763\n",
      "Data columns (total 10 columns):\n",
      "ENTRY AGE            155764 non-null int64\n",
      "SEX                  155764 non-null object\n",
      "Policy Year          155764 non-null int64\n",
      "Smoker               155764 non-null int64\n",
      "Cadre                155764 non-null object\n",
      "Health_state         155764 non-null object\n",
      "Salary               151676 non-null float64\n",
      "Marital_Status       155537 non-null object\n",
      "Death_Probability    155764 non-null float64\n",
      "High_death_risk      155764 non-null int64\n",
      "dtypes: float64(2), int64(4), object(4)\n",
      "memory usage: 11.9+ MB\n",
      "None\n"
     ]
    }
   ],
   "source": [
    "#passons à détailler de plus les information sur notre base\n",
    "print(data.info())"
   ]
  },
  {
   "cell_type": "code",
   "execution_count": 87,
   "metadata": {},
   "outputs": [
    {
     "data": {
      "text/html": [
       "<div>\n",
       "<style scoped>\n",
       "    .dataframe tbody tr th:only-of-type {\n",
       "        vertical-align: middle;\n",
       "    }\n",
       "\n",
       "    .dataframe tbody tr th {\n",
       "        vertical-align: top;\n",
       "    }\n",
       "\n",
       "    .dataframe thead th {\n",
       "        text-align: right;\n",
       "    }\n",
       "</style>\n",
       "<table border=\"1\" class=\"dataframe\">\n",
       "  <thead>\n",
       "    <tr style=\"text-align: right;\">\n",
       "      <th></th>\n",
       "      <th>ENTRY AGE</th>\n",
       "      <th>Policy Year</th>\n",
       "      <th>Smoker</th>\n",
       "      <th>Salary</th>\n",
       "      <th>Death_Probability</th>\n",
       "      <th>High_death_risk</th>\n",
       "    </tr>\n",
       "  </thead>\n",
       "  <tbody>\n",
       "    <tr>\n",
       "      <th>count</th>\n",
       "      <td>155764.000000</td>\n",
       "      <td>155764.000000</td>\n",
       "      <td>155764.000000</td>\n",
       "      <td>151676.000000</td>\n",
       "      <td>155764.000000</td>\n",
       "      <td>155764.000000</td>\n",
       "    </tr>\n",
       "    <tr>\n",
       "      <th>mean</th>\n",
       "      <td>36.039072</td>\n",
       "      <td>3.344078</td>\n",
       "      <td>0.500584</td>\n",
       "      <td>1936.239464</td>\n",
       "      <td>0.002640</td>\n",
       "      <td>0.099709</td>\n",
       "    </tr>\n",
       "    <tr>\n",
       "      <th>std</th>\n",
       "      <td>9.526547</td>\n",
       "      <td>1.322358</td>\n",
       "      <td>0.500001</td>\n",
       "      <td>799.157846</td>\n",
       "      <td>0.002516</td>\n",
       "      <td>0.299612</td>\n",
       "    </tr>\n",
       "    <tr>\n",
       "      <th>min</th>\n",
       "      <td>22.000000</td>\n",
       "      <td>1.000000</td>\n",
       "      <td>0.000000</td>\n",
       "      <td>700.000000</td>\n",
       "      <td>0.001400</td>\n",
       "      <td>0.000000</td>\n",
       "    </tr>\n",
       "    <tr>\n",
       "      <th>25%</th>\n",
       "      <td>28.000000</td>\n",
       "      <td>2.000000</td>\n",
       "      <td>0.000000</td>\n",
       "      <td>1382.000000</td>\n",
       "      <td>0.001500</td>\n",
       "      <td>0.000000</td>\n",
       "    </tr>\n",
       "    <tr>\n",
       "      <th>50%</th>\n",
       "      <td>35.000000</td>\n",
       "      <td>4.000000</td>\n",
       "      <td>1.000000</td>\n",
       "      <td>1629.000000</td>\n",
       "      <td>0.001600</td>\n",
       "      <td>0.000000</td>\n",
       "    </tr>\n",
       "    <tr>\n",
       "      <th>75%</th>\n",
       "      <td>43.000000</td>\n",
       "      <td>4.000000</td>\n",
       "      <td>1.000000</td>\n",
       "      <td>2435.000000</td>\n",
       "      <td>0.002700</td>\n",
       "      <td>0.000000</td>\n",
       "    </tr>\n",
       "    <tr>\n",
       "      <th>max</th>\n",
       "      <td>70.000000</td>\n",
       "      <td>5.000000</td>\n",
       "      <td>1.000000</td>\n",
       "      <td>4000.000000</td>\n",
       "      <td>0.036100</td>\n",
       "      <td>1.000000</td>\n",
       "    </tr>\n",
       "  </tbody>\n",
       "</table>\n",
       "</div>"
      ],
      "text/plain": [
       "           ENTRY AGE    Policy Year         Smoker         Salary  \\\n",
       "count  155764.000000  155764.000000  155764.000000  151676.000000   \n",
       "mean       36.039072       3.344078       0.500584    1936.239464   \n",
       "std         9.526547       1.322358       0.500001     799.157846   \n",
       "min        22.000000       1.000000       0.000000     700.000000   \n",
       "25%        28.000000       2.000000       0.000000    1382.000000   \n",
       "50%        35.000000       4.000000       1.000000    1629.000000   \n",
       "75%        43.000000       4.000000       1.000000    2435.000000   \n",
       "max        70.000000       5.000000       1.000000    4000.000000   \n",
       "\n",
       "       Death_Probability  High_death_risk  \n",
       "count      155764.000000    155764.000000  \n",
       "mean            0.002640         0.099709  \n",
       "std             0.002516         0.299612  \n",
       "min             0.001400         0.000000  \n",
       "25%             0.001500         0.000000  \n",
       "50%             0.001600         0.000000  \n",
       "75%             0.002700         0.000000  \n",
       "max             0.036100         1.000000  "
      ]
     },
     "execution_count": 87,
     "metadata": {},
     "output_type": "execute_result"
    }
   ],
   "source": [
    "#Nous illustrons dans le tableau suivant des détails statistiques plus profonde sur notre base de données\n",
    "data.describe()"
   ]
  },
  {
   "cell_type": "raw",
   "metadata": {},
   "source": [
    "Après avoir analyser les données d'une manière globale, nous passons à la visualisation des nombres des observations de nos variables explicatives par rapport à notre variable à expliquée \"High_death_risk\"(décédé=1;survivant=0)"
   ]
  },
  {
   "cell_type": "code",
   "execution_count": 6,
   "metadata": {},
   "outputs": [
    {
     "data": {
      "text/plain": [
       "<matplotlib.axes._subplots.AxesSubplot at 0x16d9062b978>"
      ]
     },
     "execution_count": 6,
     "metadata": {},
     "output_type": "execute_result"
    },
    {
     "data": {
      "image/png": "[encoded data removed]",
      "text/plain": [
       "<Figure size 432x288 with 1 Axes>"
      ]
     },
     "metadata": {},
     "output_type": "display_data"
    }
   ],
   "source": [
    "#sns.barplot(x = 'SEX',y = 'High_death_risk', data = data)\n",
    "#count-plot of people highly exposed to death (risky profile) par sexe\n",
    "sns.set_style('whitegrid')\n",
    "sns.countplot(x='High_death_risk', hue='SEX', data=data, palette='RdBu_r')"
   ]
  },
  {
   "cell_type": "raw",
   "metadata": {},
   "source": [
    "Après l'illustration des nombre des cas décédés(High_death_risk=1) et des cas survivant (High_death_risk=0)par sexe, nous aboutissons à ensortir que les nombre des males dépassent presque par 3/4 le nombre des femelles décédés ainsi que le nombre des survivant dans notre portfeuille des données sont plutôt des males que des femmelles."
   ]
  },
  {
   "cell_type": "code",
   "execution_count": 7,
   "metadata": {},
   "outputs": [
    {
     "data": {
      "text/plain": [
       "<matplotlib.axes._subplots.AxesSubplot at 0x16d90c09048>"
      ]
     },
     "execution_count": 7,
     "metadata": {},
     "output_type": "execute_result"
    },
    {
     "data": {
      "image/png": "[encoded data removed]",
      "text/plain": [
       "<Figure size 432x288 with 1 Axes>"
      ]
     },
     "metadata": {},
     "output_type": "display_data"
    }
   ],
   "source": [
    "#sns.barplot(x = 'Cadre',y = 'High_death_risk', data = data)\n",
    "sns.set_style('whitegrid')\n",
    "sns.countplot(x='High_death_risk', hue='Cadre', data=data, palette='BuGn')"
   ]
  },
  {
   "cell_type": "raw",
   "metadata": {},
   "source": [
    "De premier vu, il est claire que le nombre des cadres sont omniprésent dans notre portefeuille observé.\n",
    "Nous constatons d'après l'observation de graphe précédent que le nombre des décédés Cadre domine le nombre décédé non cadre(respectivement pour le nombre des survivants)"
   ]
  },
  {
   "cell_type": "code",
   "execution_count": 8,
   "metadata": {},
   "outputs": [
    {
     "data": {
      "text/plain": [
       "<matplotlib.axes._subplots.AxesSubplot at 0x16d90c8ce48>"
      ]
     },
     "execution_count": 8,
     "metadata": {},
     "output_type": "execute_result"
    },
    {
     "data": {
      "image/png": "[encoded data removed]",
      "text/plain": [
       "<Figure size 432x288 with 1 Axes>"
      ]
     },
     "metadata": {},
     "output_type": "display_data"
    }
   ],
   "source": [
    "#sns.barplot(x = 'Health_state',y = 'High_death_risk', data = data)\n",
    "sns.set_style('whitegrid')\n",
    "sns.countplot(x='High_death_risk', hue='Health_state', data=data, palette='Pastel1')"
   ]
  },
  {
   "cell_type": "raw",
   "metadata": {},
   "source": [
    "Le nombre des décédés les plus fréquent ont un mauvais état de santé(NG= Not Good) au contraire des cas des survivants ayant un bon état de santé (G=Good) ce qui est attendu.(malgrès la dominance des observations en bon état de santé dans notre portefeuille)"
   ]
  },
  {
   "cell_type": "code",
   "execution_count": 9,
   "metadata": {},
   "outputs": [
    {
     "data": {
      "text/plain": [
       "<matplotlib.axes._subplots.AxesSubplot at 0x16d90c39eb8>"
      ]
     },
     "execution_count": 9,
     "metadata": {},
     "output_type": "execute_result"
    },
    {
     "data": {
      "image/png": "[encoded data removed]",
      "text/plain": [
       "<Figure size 432x288 with 1 Axes>"
      ]
     },
     "metadata": {},
     "output_type": "display_data"
    }
   ],
   "source": [
    "#sns.barplot(x = 'Cadre',y = 'High_death_risk', data = data)\n",
    "sns.set_style('whitegrid')\n",
    "sns.countplot(x='High_death_risk', hue='Smoker', data=data, palette='BuGn')"
   ]
  },
  {
   "cell_type": "raw",
   "metadata": {},
   "source": [
    "==> le nombre des personnes décédès sont presque tous des fumeurs."
   ]
  },
  {
   "cell_type": "code",
   "execution_count": 88,
   "metadata": {},
   "outputs": [
    {
     "data": {
      "text/plain": [
       "<seaborn.axisgrid.FacetGrid at 0x16da5a1c588>"
      ]
     },
     "execution_count": 88,
     "metadata": {},
     "output_type": "execute_result"
    },
    {
     "data": {
      "image/png": "[encoded data removed]",
      "text/plain": [
       "<Figure size 440.625x360 with 1 Axes>"
      ]
     },
     "metadata": {},
     "output_type": "display_data"
    }
   ],
   "source": [
    "sns.catplot(x=\"Health_state\", y=\"Smoker\", hue=\"High_death_risk\", kind=\"bar\", data=data)"
   ]
  },
  {
   "cell_type": "raw",
   "metadata": {},
   "source": [
    "Nous remarquons après avoir analyser le catplot et le countplot précédents que le profil le plus risqué dans notre portefeuille et le plus exposés au risque de décès(High_death_risk=1) ce sont les personnes fumeurs indépendemment de leurs état de santé(G&NG).\n",
    "Nous concluons que malgrès le bon état de santé des observations présentées dans le graphe précédent, la fréquence des cas décédés est beaucoup plus importante avec les cas fumeurs."
   ]
  },
  {
   "cell_type": "code",
   "execution_count": 110,
   "metadata": {},
   "outputs": [
    {
     "data": {
      "text/plain": [
       "<matplotlib.axes._subplots.AxesSubplot at 0x16da6927208>"
      ]
     },
     "execution_count": 110,
     "metadata": {},
     "output_type": "execute_result"
    },
    {
     "data": {
      "image/png": "[encoded data removed]",
      "text/plain": [
       "<Figure size 432x288 with 1 Axes>"
      ]
     },
     "metadata": {},
     "output_type": "display_data"
    }
   ],
   "source": [
    "\n",
    "sns.lineplot(x='ENTRY AGE',y='High_death_risk',data=data)"
   ]
  },
  {
   "cell_type": "raw",
   "metadata": {},
   "source": [
    "==> nous remarquons Que les personnes les plus agés sont eux qui présente un grand risque de décès (60ans>)"
   ]
  },
  {
   "cell_type": "code",
   "execution_count": 111,
   "metadata": {},
   "outputs": [
    {
     "data": {
      "text/plain": [
       "<matplotlib.axes._subplots.AxesSubplot at 0x16da793cac8>"
      ]
     },
     "execution_count": 111,
     "metadata": {},
     "output_type": "execute_result"
    },
    {
     "data": {
      "image/png": "[encoded data removed]",
      "text/plain": [
       "<Figure size 432x288 with 1 Axes>"
      ]
     },
     "metadata": {},
     "output_type": "display_data"
    }
   ],
   "source": [
    "#sns.barplot(x = 'Marital_Status',y = 'High_death_risk', data = data)\n",
    "\n",
    "sns.set_style('whitegrid')\n",
    "sns.countplot(x='High_death_risk', hue='Marital_Status', data=data, palette='RdBu')"
   ]
  },
  {
   "cell_type": "code",
   "execution_count": 112,
   "metadata": {},
   "outputs": [
    {
     "name": "stdout",
     "output_type": "stream",
     "text": [
      "Married 69895 Single 85642\n"
     ]
    }
   ],
   "source": [
    "print(\"Married\",(data['Marital_Status']=='M').sum(),\"Single\",(data['Marital_Status']=='S').sum())"
   ]
  },
  {
   "cell_type": "raw",
   "metadata": {},
   "source": [
    "Nous voyons clairement que le nombre des individus célébataires 85 642(Marital_Status=S) dépassent le nombre des individus mariés 69 895 dans notre portefeuille observé.\n",
    "Nous remarquons de plus  à travers le graphe précédent que le nombre des décédés ne varie quasimment pas en faisant varier la statut sociale des individus.\n",
    "De plus en tenant compte de l'omniprésence des individus célébataire dans notre base de données nous constatons que la propotion des personnes survivant ne s'influe pas de la status sociale de l'individus.\n",
    "Nous constatons par la suite que le risque de décès vaire indépéndemment de la status sociale de l'individus."
   ]
  },
  {
   "cell_type": "markdown",
   "metadata": {},
   "source": [
    "## Step4-Nettoyage Des données (Si nécessaire)"
   ]
  },
  {
   "cell_type": "raw",
   "metadata": {},
   "source": [
    "Par les constatations et les observations représentés dans les graphes ci avant nous allons prendre la décision concernant l'imputation ou l'enlèvement des valeurs manquantes. \n",
    "Tout d'abord nous commençons par la variable explicative \"Marital_Status\" qui présente des valeurs manquante.\n"
   ]
  },
  {
   "cell_type": "code",
   "execution_count": 113,
   "metadata": {},
   "outputs": [
    {
     "name": "stdout",
     "output_type": "stream",
     "text": [
      "ENTRY AGE            0.000000\n",
      "SEX                  0.000000\n",
      "Policy Year          0.000000\n",
      "Smoker               0.000000\n",
      "Cadre                0.000000\n",
      "Health_state         0.000000\n",
      "Salary               0.026245\n",
      "Marital_Status       0.001457\n",
      "Death_Probability    0.000000\n",
      "High_death_risk      0.000000\n",
      "dtype: float64\n"
     ]
    }
   ],
   "source": [
    "missing_val_count_by_column = (data.isnull().sum()/len(data))\n",
    "print(missing_val_count_by_column)"
   ]
  },
  {
   "cell_type": "raw",
   "metadata": {},
   "source": [
    "Nous voyons que les valeurs manquantes pour la variable \"Marital_Status\" ne représente 0.1457% qui est une portion négligeable de la data observée. de plus nous avons en sotie d'après les visualisations précédentes (qui concerne cette variable) que cette variable n'est pas descriminante de notre variable à expliquer \"High_death_risk\".\n",
    "==> Pour cela nous avons décider d'enlever cette portion de notre études."
   ]
  },
  {
   "cell_type": "code",
   "execution_count": 114,
   "metadata": {},
   "outputs": [
    {
     "name": "stdout",
     "output_type": "stream",
     "text": [
      "<class 'pandas.core.frame.DataFrame'>\n",
      "Int64Index: 155537 entries, 0 to 155763\n",
      "Data columns (total 10 columns):\n",
      "ENTRY AGE            155537 non-null int64\n",
      "SEX                  155537 non-null object\n",
      "Policy Year          155537 non-null int64\n",
      "Smoker               155537 non-null int64\n",
      "Cadre                155537 non-null object\n",
      "Health_state         155537 non-null object\n",
      "Salary               151676 non-null float64\n",
      "Marital_Status       155537 non-null object\n",
      "Death_Probability    155537 non-null float64\n",
      "High_death_risk      155537 non-null int64\n",
      "dtypes: float64(2), int64(4), object(4)\n",
      "memory usage: 13.1+ MB\n"
     ]
    }
   ],
   "source": [
    "data.dropna(subset=[\"Marital_Status\"],inplace=True)\n",
    "data.info()"
   ]
  },
  {
   "cell_type": "raw",
   "metadata": {},
   "source": [
    "Après avoir enlever les éléments manquants du variable \"Marital_Status\", nous passons au netoyage des valeurs manquante de la variable qui reste à traiter."
   ]
  },
  {
   "cell_type": "raw",
   "metadata": {},
   "source": [
    "Nous commençons à revérifier les espaces vides et qui nécessite l'imputation par la schématisation suivante:\n",
    "Nous créons un simple heatmap afin de voir les valeurs qui nous manques."
   ]
  },
  {
   "cell_type": "code",
   "execution_count": 115,
   "metadata": {},
   "outputs": [
    {
     "data": {
      "text/plain": [
       "<matplotlib.axes._subplots.AxesSubplot at 0x16d953ca080>"
      ]
     },
     "execution_count": 115,
     "metadata": {},
     "output_type": "execute_result"
    },
    {
     "data": {
      "image/png": "[encoded data removed]",
      "text/plain": [
       "<Figure size 432x288 with 1 Axes>"
      ]
     },
     "metadata": {},
     "output_type": "display_data"
    }
   ],
   "source": [
    "sns.heatmap(data.isnull(),yticklabels=False,cbar=False,cmap=\"viridis\")"
   ]
  },
  {
   "cell_type": "raw",
   "metadata": {},
   "source": [
    "Il s'est avéré après cette visualisation que la variable qui manque à imputer c'est:\"Salary\"\n"
   ]
  },
  {
   "cell_type": "code",
   "execution_count": 116,
   "metadata": {},
   "outputs": [
    {
     "data": {
      "text/plain": [
       "Text(0.5, 1.0, 'Salaire par Status Professionnelle')"
      ]
     },
     "execution_count": 116,
     "metadata": {},
     "output_type": "execute_result"
    },
    {
     "data": {
      "image/png": "[encoded data removed]",
      "text/plain": [
       "<Figure size 360x216 with 1 Axes>"
      ]
     },
     "metadata": {},
     "output_type": "display_data"
    }
   ],
   "source": [
    "plt.figure(figsize=(5, 3))\n",
    "sns.boxplot('Cadre', 'Salary', data= data).set_title('Salaire par Status Professionnelle')"
   ]
  },
  {
   "cell_type": "raw",
   "metadata": {},
   "source": [
    "Nous nous rendions compte que la variable la plus décisif pour le salaire c'est celle du Status professionnelle de l'individus s'il est cadre(C) ou non cadre(NC). Ce qui est logique est attendue."
   ]
  },
  {
   "cell_type": "code",
   "execution_count": 117,
   "metadata": {},
   "outputs": [],
   "source": [
    "def impute_Salary(cols):\n",
    "    Salary = cols[0]\n",
    "    Cadre = cols[1]\n",
    "\n",
    "    if pd.isnull(Salary):\n",
    "        if    Cadre == 'C':\n",
    "            return 1700\n",
    "        else:\n",
    "            return 900\n",
    "    else:\n",
    "        return Salary"
   ]
  },
  {
   "cell_type": "code",
   "execution_count": 118,
   "metadata": {},
   "outputs": [],
   "source": [
    "# Now apply that function!\n",
    "data['Salary'] = data[['Salary','Cadre']].apply(impute_Salary,axis=1)"
   ]
  },
  {
   "cell_type": "markdown",
   "metadata": {},
   "source": [
    "## Step4'-Affichage des données nettoyées. (Equivalent à step3)"
   ]
  },
  {
   "cell_type": "code",
   "execution_count": 119,
   "metadata": {},
   "outputs": [
    {
     "data": {
      "text/plain": [
       "ENTRY AGE            0.0\n",
       "SEX                  0.0\n",
       "Policy Year          0.0\n",
       "Smoker               0.0\n",
       "Cadre                0.0\n",
       "Health_state         0.0\n",
       "Salary               0.0\n",
       "Marital_Status       0.0\n",
       "Death_Probability    0.0\n",
       "High_death_risk      0.0\n",
       "dtype: float64"
      ]
     },
     "execution_count": 119,
     "metadata": {},
     "output_type": "execute_result"
    }
   ],
   "source": [
    "missing_val_count_by_column = (data.isnull().sum()/len(data))\n",
    "missing_val_count_by_column"
   ]
  },
  {
   "cell_type": "code",
   "execution_count": 120,
   "metadata": {},
   "outputs": [
    {
     "data": {
      "text/plain": [
       "<matplotlib.axes._subplots.AxesSubplot at 0x16da6a95358>"
      ]
     },
     "execution_count": 120,
     "metadata": {},
     "output_type": "execute_result"
    },
    {
     "data": {
      "image/png": "[encoded data removed]",
      "text/plain": [
       "<Figure size 432x288 with 1 Axes>"
      ]
     },
     "metadata": {},
     "output_type": "display_data"
    }
   ],
   "source": [
    "#Now let’s check that heatmap again!\n",
    "sns.heatmap(data.isnull(),yticklabels=False,cbar=False,cmap='viridis')"
   ]
  },
  {
   "cell_type": "raw",
   "metadata": {},
   "source": [
    "Nous verifions de ce qui précède que les valeurs null n'est plus existantes dans notre data"
   ]
  },
  {
   "cell_type": "raw",
   "metadata": {},
   "source": [
    "Nous passons maintenant à traiter les variables catégoriques par un simple encodage et pour qu'on puisse les utiliser dans l'algorithme de nos modèles."
   ]
  },
  {
   "cell_type": "code",
   "execution_count": 121,
   "metadata": {},
   "outputs": [
    {
     "data": {
      "text/html": [
       "<div>\n",
       "<style scoped>\n",
       "    .dataframe tbody tr th:only-of-type {\n",
       "        vertical-align: middle;\n",
       "    }\n",
       "\n",
       "    .dataframe tbody tr th {\n",
       "        vertical-align: top;\n",
       "    }\n",
       "\n",
       "    .dataframe thead th {\n",
       "        text-align: right;\n",
       "    }\n",
       "</style>\n",
       "<table border=\"1\" class=\"dataframe\">\n",
       "  <thead>\n",
       "    <tr style=\"text-align: right;\">\n",
       "      <th></th>\n",
       "      <th>M</th>\n",
       "      <th>NC</th>\n",
       "      <th>NG</th>\n",
       "      <th>S</th>\n",
       "      <th>ENTRY AGE</th>\n",
       "      <th>Policy Year</th>\n",
       "      <th>Smoker</th>\n",
       "      <th>Salary</th>\n",
       "      <th>Death_Probability</th>\n",
       "      <th>High_death_risk</th>\n",
       "    </tr>\n",
       "  </thead>\n",
       "  <tbody>\n",
       "    <tr>\n",
       "      <th>0</th>\n",
       "      <td>0</td>\n",
       "      <td>1</td>\n",
       "      <td>0</td>\n",
       "      <td>0</td>\n",
       "      <td>36</td>\n",
       "      <td>4</td>\n",
       "      <td>1</td>\n",
       "      <td>1443.0</td>\n",
       "      <td>0.0017</td>\n",
       "      <td>1</td>\n",
       "    </tr>\n",
       "    <tr>\n",
       "      <th>1</th>\n",
       "      <td>1</td>\n",
       "      <td>1</td>\n",
       "      <td>0</td>\n",
       "      <td>0</td>\n",
       "      <td>42</td>\n",
       "      <td>4</td>\n",
       "      <td>1</td>\n",
       "      <td>1347.0</td>\n",
       "      <td>0.0025</td>\n",
       "      <td>1</td>\n",
       "    </tr>\n",
       "    <tr>\n",
       "      <th>2</th>\n",
       "      <td>1</td>\n",
       "      <td>1</td>\n",
       "      <td>0</td>\n",
       "      <td>1</td>\n",
       "      <td>40</td>\n",
       "      <td>4</td>\n",
       "      <td>0</td>\n",
       "      <td>1212.0</td>\n",
       "      <td>0.0022</td>\n",
       "      <td>0</td>\n",
       "    </tr>\n",
       "    <tr>\n",
       "      <th>3</th>\n",
       "      <td>1</td>\n",
       "      <td>1</td>\n",
       "      <td>1</td>\n",
       "      <td>0</td>\n",
       "      <td>39</td>\n",
       "      <td>4</td>\n",
       "      <td>1</td>\n",
       "      <td>1411.0</td>\n",
       "      <td>0.0020</td>\n",
       "      <td>1</td>\n",
       "    </tr>\n",
       "    <tr>\n",
       "      <th>4</th>\n",
       "      <td>1</td>\n",
       "      <td>1</td>\n",
       "      <td>0</td>\n",
       "      <td>1</td>\n",
       "      <td>44</td>\n",
       "      <td>4</td>\n",
       "      <td>0</td>\n",
       "      <td>1098.0</td>\n",
       "      <td>0.0030</td>\n",
       "      <td>0</td>\n",
       "    </tr>\n",
       "  </tbody>\n",
       "</table>\n",
       "</div>"
      ],
      "text/plain": [
       "   M  NC  NG  S  ENTRY AGE  Policy Year  Smoker  Salary  Death_Probability  \\\n",
       "0  0   1   0  0         36            4       1  1443.0             0.0017   \n",
       "1  1   1   0  0         42            4       1  1347.0             0.0025   \n",
       "2  1   1   0  1         40            4       0  1212.0             0.0022   \n",
       "3  1   1   1  0         39            4       1  1411.0             0.0020   \n",
       "4  1   1   0  1         44            4       0  1098.0             0.0030   \n",
       "\n",
       "   High_death_risk  \n",
       "0                1  \n",
       "1                1  \n",
       "2                0  \n",
       "3                1  \n",
       "4                0  "
      ]
     },
     "execution_count": 121,
     "metadata": {},
     "output_type": "execute_result"
    }
   ],
   "source": [
    "SEX = pd.get_dummies(data['SEX'],drop_first=True)\n",
    "Cadre = pd.get_dummies(data['Cadre'],drop_first=True)\n",
    "Health_state = pd.get_dummies(data['Health_state'],drop_first=True)\n",
    "Marital_Status = pd.get_dummies(data['Marital_Status'],drop_first=True)\n",
    "#drop the sex,embarked,name and tickets columns\n",
    "data.drop(['SEX','Cadre','Health_state','Marital_Status'],axis=1,inplace=True)\n",
    "#concatenate new sex and embark column to our train dataframe\n",
    "data = pd.concat([SEX,Cadre,Health_state,Marital_Status,data],axis=1)\n",
    "#check the head of dataframe\n",
    "data.head()"
   ]
  },
  {
   "cell_type": "code",
   "execution_count": 122,
   "metadata": {},
   "outputs": [
    {
     "data": {
      "text/plain": [
       "<matplotlib.axes._subplots.AxesSubplot at 0x16da9322ac8>"
      ]
     },
     "execution_count": 122,
     "metadata": {},
     "output_type": "execute_result"
    },
    {
     "data": {
      "image/png": "[encoded data removed]",
      "text/plain": [
       "<Figure size 432x360 with 2 Axes>"
      ]
     },
     "metadata": {},
     "output_type": "display_data"
    }
   ],
   "source": [
    "fig_size = (6, 5)\n",
    "fig, ax = plt.subplots(figsize=fig_size)\n",
    "sns.heatmap(data.corr(), cmap=\"Blues\")"
   ]
  },
  {
   "cell_type": "code",
   "execution_count": 123,
   "metadata": {},
   "outputs": [
    {
     "data": {
      "text/html": [
       "<div>\n",
       "<style scoped>\n",
       "    .dataframe tbody tr th:only-of-type {\n",
       "        vertical-align: middle;\n",
       "    }\n",
       "\n",
       "    .dataframe tbody tr th {\n",
       "        vertical-align: top;\n",
       "    }\n",
       "\n",
       "    .dataframe thead th {\n",
       "        text-align: right;\n",
       "    }\n",
       "</style>\n",
       "<table border=\"1\" class=\"dataframe\">\n",
       "  <thead>\n",
       "    <tr style=\"text-align: right;\">\n",
       "      <th></th>\n",
       "      <th>M</th>\n",
       "      <th>NC</th>\n",
       "      <th>NG</th>\n",
       "      <th>S</th>\n",
       "      <th>ENTRY AGE</th>\n",
       "      <th>Policy Year</th>\n",
       "      <th>Smoker</th>\n",
       "      <th>Salary</th>\n",
       "      <th>Death_Probability</th>\n",
       "      <th>High_death_risk</th>\n",
       "    </tr>\n",
       "  </thead>\n",
       "  <tbody>\n",
       "    <tr>\n",
       "      <th>M</th>\n",
       "      <td>1.000000</td>\n",
       "      <td>-0.022052</td>\n",
       "      <td>0.002286</td>\n",
       "      <td>-0.010640</td>\n",
       "      <td>-0.039372</td>\n",
       "      <td>0.006809</td>\n",
       "      <td>0.000634</td>\n",
       "      <td>-0.003495</td>\n",
       "      <td>-0.049385</td>\n",
       "      <td>0.141660</td>\n",
       "    </tr>\n",
       "    <tr>\n",
       "      <th>NC</th>\n",
       "      <td>-0.022052</td>\n",
       "      <td>1.000000</td>\n",
       "      <td>0.005057</td>\n",
       "      <td>0.217994</td>\n",
       "      <td>-0.404232</td>\n",
       "      <td>0.026638</td>\n",
       "      <td>0.002580</td>\n",
       "      <td>-0.446792</td>\n",
       "      <td>-0.148984</td>\n",
       "      <td>0.077955</td>\n",
       "    </tr>\n",
       "    <tr>\n",
       "      <th>NG</th>\n",
       "      <td>0.002286</td>\n",
       "      <td>0.005057</td>\n",
       "      <td>1.000000</td>\n",
       "      <td>0.000937</td>\n",
       "      <td>-0.002456</td>\n",
       "      <td>0.001025</td>\n",
       "      <td>0.578330</td>\n",
       "      <td>-0.006425</td>\n",
       "      <td>-0.004610</td>\n",
       "      <td>0.406839</td>\n",
       "    </tr>\n",
       "    <tr>\n",
       "      <th>S</th>\n",
       "      <td>-0.010640</td>\n",
       "      <td>0.217994</td>\n",
       "      <td>0.000937</td>\n",
       "      <td>1.000000</td>\n",
       "      <td>-0.135525</td>\n",
       "      <td>0.001042</td>\n",
       "      <td>0.001267</td>\n",
       "      <td>-0.100428</td>\n",
       "      <td>-0.047988</td>\n",
       "      <td>-0.017447</td>\n",
       "    </tr>\n",
       "    <tr>\n",
       "      <th>ENTRY AGE</th>\n",
       "      <td>-0.039372</td>\n",
       "      <td>-0.404232</td>\n",
       "      <td>-0.002456</td>\n",
       "      <td>-0.135525</td>\n",
       "      <td>1.000000</td>\n",
       "      <td>-0.037801</td>\n",
       "      <td>-0.002758</td>\n",
       "      <td>0.226902</td>\n",
       "      <td>0.770107</td>\n",
       "      <td>0.112881</td>\n",
       "    </tr>\n",
       "    <tr>\n",
       "      <th>Policy Year</th>\n",
       "      <td>0.006809</td>\n",
       "      <td>0.026638</td>\n",
       "      <td>0.001025</td>\n",
       "      <td>0.001042</td>\n",
       "      <td>-0.037801</td>\n",
       "      <td>1.000000</td>\n",
       "      <td>0.002297</td>\n",
       "      <td>-0.049162</td>\n",
       "      <td>-0.059543</td>\n",
       "      <td>0.060014</td>\n",
       "    </tr>\n",
       "    <tr>\n",
       "      <th>Smoker</th>\n",
       "      <td>0.000634</td>\n",
       "      <td>0.002580</td>\n",
       "      <td>0.578330</td>\n",
       "      <td>0.001267</td>\n",
       "      <td>-0.002758</td>\n",
       "      <td>0.002297</td>\n",
       "      <td>1.000000</td>\n",
       "      <td>-0.002117</td>\n",
       "      <td>-0.004762</td>\n",
       "      <td>0.298086</td>\n",
       "    </tr>\n",
       "    <tr>\n",
       "      <th>Salary</th>\n",
       "      <td>-0.003495</td>\n",
       "      <td>-0.446792</td>\n",
       "      <td>-0.006425</td>\n",
       "      <td>-0.100428</td>\n",
       "      <td>0.226902</td>\n",
       "      <td>-0.049162</td>\n",
       "      <td>-0.002117</td>\n",
       "      <td>1.000000</td>\n",
       "      <td>0.108261</td>\n",
       "      <td>-0.013903</td>\n",
       "    </tr>\n",
       "    <tr>\n",
       "      <th>Death_Probability</th>\n",
       "      <td>-0.049385</td>\n",
       "      <td>-0.148984</td>\n",
       "      <td>-0.004610</td>\n",
       "      <td>-0.047988</td>\n",
       "      <td>0.770107</td>\n",
       "      <td>-0.059543</td>\n",
       "      <td>-0.004762</td>\n",
       "      <td>0.108261</td>\n",
       "      <td>1.000000</td>\n",
       "      <td>0.156048</td>\n",
       "    </tr>\n",
       "    <tr>\n",
       "      <th>High_death_risk</th>\n",
       "      <td>0.141660</td>\n",
       "      <td>0.077955</td>\n",
       "      <td>0.406839</td>\n",
       "      <td>-0.017447</td>\n",
       "      <td>0.112881</td>\n",
       "      <td>0.060014</td>\n",
       "      <td>0.298086</td>\n",
       "      <td>-0.013903</td>\n",
       "      <td>0.156048</td>\n",
       "      <td>1.000000</td>\n",
       "    </tr>\n",
       "  </tbody>\n",
       "</table>\n",
       "</div>"
      ],
      "text/plain": [
       "                          M        NC        NG         S  ENTRY AGE  \\\n",
       "M                  1.000000 -0.022052  0.002286 -0.010640  -0.039372   \n",
       "NC                -0.022052  1.000000  0.005057  0.217994  -0.404232   \n",
       "NG                 0.002286  0.005057  1.000000  0.000937  -0.002456   \n",
       "S                 -0.010640  0.217994  0.000937  1.000000  -0.135525   \n",
       "ENTRY AGE         -0.039372 -0.404232 -0.002456 -0.135525   1.000000   \n",
       "Policy Year        0.006809  0.026638  0.001025  0.001042  -0.037801   \n",
       "Smoker             0.000634  0.002580  0.578330  0.001267  -0.002758   \n",
       "Salary            -0.003495 -0.446792 -0.006425 -0.100428   0.226902   \n",
       "Death_Probability -0.049385 -0.148984 -0.004610 -0.047988   0.770107   \n",
       "High_death_risk    0.141660  0.077955  0.406839 -0.017447   0.112881   \n",
       "\n",
       "                   Policy Year    Smoker    Salary  Death_Probability  \\\n",
       "M                     0.006809  0.000634 -0.003495          -0.049385   \n",
       "NC                    0.026638  0.002580 -0.446792          -0.148984   \n",
       "NG                    0.001025  0.578330 -0.006425          -0.004610   \n",
       "S                     0.001042  0.001267 -0.100428          -0.047988   \n",
       "ENTRY AGE            -0.037801 -0.002758  0.226902           0.770107   \n",
       "Policy Year           1.000000  0.002297 -0.049162          -0.059543   \n",
       "Smoker                0.002297  1.000000 -0.002117          -0.004762   \n",
       "Salary               -0.049162 -0.002117  1.000000           0.108261   \n",
       "Death_Probability    -0.059543 -0.004762  0.108261           1.000000   \n",
       "High_death_risk       0.060014  0.298086 -0.013903           0.156048   \n",
       "\n",
       "                   High_death_risk  \n",
       "M                         0.141660  \n",
       "NC                        0.077955  \n",
       "NG                        0.406839  \n",
       "S                        -0.017447  \n",
       "ENTRY AGE                 0.112881  \n",
       "Policy Year               0.060014  \n",
       "Smoker                    0.298086  \n",
       "Salary                   -0.013903  \n",
       "Death_Probability         0.156048  \n",
       "High_death_risk           1.000000  "
      ]
     },
     "execution_count": 123,
     "metadata": {},
     "output_type": "execute_result"
    }
   ],
   "source": [
    "#methode de corrélation par défaut : mesure de pearson : standard correlation coefficient\n",
    "corr_matrix = data.corr()\n",
    "corr_matrix"
   ]
  },
  {
   "cell_type": "markdown",
   "metadata": {},
   "source": [
    "## Step5- Split Dataset (Training and Test) By using Cross Validation ou l'une de ses variantes."
   ]
  },
  {
   "cell_type": "raw",
   "metadata": {},
   "source": [
    "Nous arrivons au stade de répartition de nos données observées en base test et en base d'apprentissage pour se faire nous utilisons un logique mathématique afin d'optimiser notre chois pour le splitting du data(pour eviter l'overfitting ou l'underfitting)\n",
    "Nous commençons tous d'abord de voir la fréquence des deux classes observés High_death_risk=1(décès) High_death_risk=0(survie) afin de décider par rapport au splitting entre base test et base d'apprentissage."
   ]
  },
  {
   "cell_type": "code",
   "execution_count": 124,
   "metadata": {},
   "outputs": [
    {
     "data": {
      "text/plain": [
       "<matplotlib.axes._subplots.AxesSubplot at 0x16da6b28a58>"
      ]
     },
     "execution_count": 124,
     "metadata": {},
     "output_type": "execute_result"
    },
    {
     "data": {
      "image/png": "[encoded data removed]",
      "text/plain": [
       "<Figure size 432x288 with 1 Axes>"
      ]
     },
     "metadata": {},
     "output_type": "display_data"
    }
   ],
   "source": [
    "\n",
    "sns.set_style('whitegrid')\n",
    "sns.countplot(x='High_death_risk', data=data, palette='Wistia')"
   ]
  },
  {
   "cell_type": "code",
   "execution_count": 125,
   "metadata": {},
   "outputs": [
    {
     "name": "stdout",
     "output_type": "stream",
     "text": [
      "la proportion des décédès dans la base est 0.09886393591235526 \n",
      " la proportion des survivants dans la base est 0.9011360640876448\n"
     ]
    }
   ],
   "source": [
    "print('la proportion des décédès dans la base est',(data['High_death_risk']==1).sum()/len(data),'\\n','la proportion des survivants dans la base est',(data['High_death_risk']==0).sum()/len(data))"
   ]
  },
  {
   "cell_type": "raw",
   "metadata": {},
   "source": [
    "D'après ces données observés nous optons à garder les paramètres par défaut de la fonction split qui sont test_size=0.2 (presque 2*0.098qui est la proportion des décédès) et train_size=0.8 comme( cette distribution garantit pour que les deux parties base test et base d'apprentissage englobe une bonne proportion des deux types de classe à deviner par la suite)\n",
    "==> ça hénibe l'overfitting .\n",
    "faible probabilité d'underfitting(vu la grande taille de notre base)\n"
   ]
  },
  {
   "cell_type": "raw",
   "metadata": {},
   "source": [
    "Afin de s'assurer que les deux parties présentent une dispertion optimale et convenable des deux classes à prédire, nous optons à la stratification pour en tenir compte de la distribution des deux classes de la variable à expliquée qui est dans notre cas 'High_death_risk' dans la base et de leurs omniprésence dans la base."
   ]
  },
  {
   "cell_type": "code",
   "execution_count": 126,
   "metadata": {},
   "outputs": [],
   "source": [
    "#from sklearn.model_selection import GridSearchCV"
   ]
  },
  {
   "cell_type": "code",
   "execution_count": 127,
   "metadata": {},
   "outputs": [],
   "source": [
    "#Train Test Split\n",
    "#X will contain all the features and y will contain the target variable\n",
    "from sklearn.model_selection import train_test_split\n",
    "X_train, X_test, y_train, y_test = train_test_split(data.drop('High_death_risk',axis=1), \n",
    "           data['High_death_risk'], test_size=0.20, stratify=data['High_death_risk'])"
   ]
  },
  {
   "cell_type": "code",
   "execution_count": 128,
   "metadata": {},
   "outputs": [
    {
     "name": "stdout",
     "output_type": "stream",
     "text": [
      "décédés dans base train et leurs proportion% nombre décédés total [12302, 0.8000260128763738]\n",
      "survivants dans base train et leurs proportion% nombre des survivants total [112127, 0.7999928652968037]\n",
      "décédés dans base test  et leurs proportion% nombre décédés total [3075, 0.19997398712362618]\n",
      "survivants dans base test et leurs proportion% nombre des survivants total [28033, 0.20000713470319634]\n"
     ]
    }
   ],
   "source": [
    "#Nous présentons ici la proportion des cas survivant et des décédès\n",
    "#entre base test et base train comme covenus et résultant de la méthodologie adoptée précedemment:\n",
    "print('décédés dans base train et leurs proportion% nombre décédés total',[(y_train==1).sum(),(y_train==1).sum()/(data['High_death_risk']==1).sum()])\n",
    "print('survivants dans base train et leurs proportion% nombre des survivants total',[(y_train==0).sum(),(y_train==0).sum()/(data['High_death_risk']==0).sum()])\n",
    "print('décédés dans base test  et leurs proportion% nombre décédés total',[(y_test==1).sum(),(y_test==1).sum()/(data['High_death_risk']==1).sum()])\n",
    "print('survivants dans base test et leurs proportion% nombre des survivants total',[(y_test==0).sum(),(y_test==0).sum()/(data['High_death_risk']==0).sum()])"
   ]
  },
  {
   "cell_type": "markdown",
   "metadata": {},
   "source": [
    "## Step6-Paramétré l'algorithme d'apprentissage."
   ]
  },
  {
   "cell_type": "markdown",
   "metadata": {},
   "source": [
    "# choix de paramètres de notre algorithe de régression logistique"
   ]
  },
  {
   "cell_type": "raw",
   "metadata": {},
   "source": [
    "Une fois nous avons finit avec l'étape précédente qui est le splitting des données entre base d'apprentissage et base test nous arrivons maintenant à illustrer la méthodologie adopté afin de paramétrer le modèle de régression logistique.\n",
    "Comme ce modèle est induit de la famille des modèles que nous cherchons à estimer ces paramètres au mieux afin d'éviter l'erreur de biais provenant de l'écart entre la valeur estimé du paramètre et de l'observation utilisé, nous optons à voir la convergence de notre modèle en terme de nombre d'itération pour en dégager le nombre d'observation à partir duquel notre modèle devient le plus stable possible et afin d'approximer d'une manière optimale les paramètres de notre algorithme"
   ]
  },
  {
   "cell_type": "code",
   "execution_count": 129,
   "metadata": {},
   "outputs": [
    {
     "name": "stderr",
     "output_type": "stream",
     "text": [
      "C:\\Users\\Asus\\Anaconda3\\envs\\MDS\\lib\\site-packages\\sklearn\\linear_model\\logistic.py:433: FutureWarning: Default solver will be changed to 'lbfgs' in 0.22. Specify a solver to silence this warning.\n",
      "  FutureWarning)\n",
      "C:\\Users\\Asus\\Anaconda3\\envs\\MDS\\lib\\site-packages\\sklearn\\svm\\base.py:931: ConvergenceWarning: Liblinear failed to converge, increase the number of iterations.\n",
      "  \"the number of iterations.\", ConvergenceWarning)\n",
      "C:\\Users\\Asus\\Anaconda3\\envs\\MDS\\lib\\site-packages\\sklearn\\linear_model\\logistic.py:433: FutureWarning: Default solver will be changed to 'lbfgs' in 0.22. Specify a solver to silence this warning.\n",
      "  FutureWarning)\n",
      "C:\\Users\\Asus\\Anaconda3\\envs\\MDS\\lib\\site-packages\\sklearn\\linear_model\\logistic.py:433: FutureWarning: Default solver will be changed to 'lbfgs' in 0.22. Specify a solver to silence this warning.\n",
      "  FutureWarning)\n",
      "C:\\Users\\Asus\\Anaconda3\\envs\\MDS\\lib\\site-packages\\sklearn\\linear_model\\logistic.py:433: FutureWarning: Default solver will be changed to 'lbfgs' in 0.22. Specify a solver to silence this warning.\n",
      "  FutureWarning)\n",
      "C:\\Users\\Asus\\Anaconda3\\envs\\MDS\\lib\\site-packages\\sklearn\\linear_model\\logistic.py:433: FutureWarning: Default solver will be changed to 'lbfgs' in 0.22. Specify a solver to silence this warning.\n",
      "  FutureWarning)\n",
      "C:\\Users\\Asus\\Anaconda3\\envs\\MDS\\lib\\site-packages\\sklearn\\linear_model\\logistic.py:433: FutureWarning: Default solver will be changed to 'lbfgs' in 0.22. Specify a solver to silence this warning.\n",
      "  FutureWarning)\n",
      "C:\\Users\\Asus\\Anaconda3\\envs\\MDS\\lib\\site-packages\\sklearn\\linear_model\\logistic.py:433: FutureWarning: Default solver will be changed to 'lbfgs' in 0.22. Specify a solver to silence this warning.\n",
      "  FutureWarning)\n",
      "C:\\Users\\Asus\\Anaconda3\\envs\\MDS\\lib\\site-packages\\sklearn\\linear_model\\logistic.py:433: FutureWarning: Default solver will be changed to 'lbfgs' in 0.22. Specify a solver to silence this warning.\n",
      "  FutureWarning)\n",
      "C:\\Users\\Asus\\Anaconda3\\envs\\MDS\\lib\\site-packages\\sklearn\\linear_model\\logistic.py:433: FutureWarning: Default solver will be changed to 'lbfgs' in 0.22. Specify a solver to silence this warning.\n",
      "  FutureWarning)\n",
      "C:\\Users\\Asus\\Anaconda3\\envs\\MDS\\lib\\site-packages\\sklearn\\linear_model\\logistic.py:433: FutureWarning: Default solver will be changed to 'lbfgs' in 0.22. Specify a solver to silence this warning.\n",
      "  FutureWarning)\n",
      "C:\\Users\\Asus\\Anaconda3\\envs\\MDS\\lib\\site-packages\\sklearn\\linear_model\\logistic.py:433: FutureWarning: Default solver will be changed to 'lbfgs' in 0.22. Specify a solver to silence this warning.\n",
      "  FutureWarning)\n",
      "C:\\Users\\Asus\\Anaconda3\\envs\\MDS\\lib\\site-packages\\sklearn\\linear_model\\logistic.py:433: FutureWarning: Default solver will be changed to 'lbfgs' in 0.22. Specify a solver to silence this warning.\n",
      "  FutureWarning)\n",
      "C:\\Users\\Asus\\Anaconda3\\envs\\MDS\\lib\\site-packages\\sklearn\\linear_model\\logistic.py:433: FutureWarning: Default solver will be changed to 'lbfgs' in 0.22. Specify a solver to silence this warning.\n",
      "  FutureWarning)\n",
      "C:\\Users\\Asus\\Anaconda3\\envs\\MDS\\lib\\site-packages\\sklearn\\linear_model\\logistic.py:433: FutureWarning: Default solver will be changed to 'lbfgs' in 0.22. Specify a solver to silence this warning.\n",
      "  FutureWarning)\n",
      "C:\\Users\\Asus\\Anaconda3\\envs\\MDS\\lib\\site-packages\\sklearn\\linear_model\\logistic.py:433: FutureWarning: Default solver will be changed to 'lbfgs' in 0.22. Specify a solver to silence this warning.\n",
      "  FutureWarning)\n",
      "C:\\Users\\Asus\\Anaconda3\\envs\\MDS\\lib\\site-packages\\sklearn\\linear_model\\logistic.py:433: FutureWarning: Default solver will be changed to 'lbfgs' in 0.22. Specify a solver to silence this warning.\n",
      "  FutureWarning)\n",
      "C:\\Users\\Asus\\Anaconda3\\envs\\MDS\\lib\\site-packages\\sklearn\\linear_model\\logistic.py:433: FutureWarning: Default solver will be changed to 'lbfgs' in 0.22. Specify a solver to silence this warning.\n",
      "  FutureWarning)\n",
      "C:\\Users\\Asus\\Anaconda3\\envs\\MDS\\lib\\site-packages\\sklearn\\linear_model\\logistic.py:433: FutureWarning: Default solver will be changed to 'lbfgs' in 0.22. Specify a solver to silence this warning.\n",
      "  FutureWarning)\n",
      "C:\\Users\\Asus\\Anaconda3\\envs\\MDS\\lib\\site-packages\\sklearn\\linear_model\\logistic.py:433: FutureWarning: Default solver will be changed to 'lbfgs' in 0.22. Specify a solver to silence this warning.\n",
      "  FutureWarning)\n",
      "C:\\Users\\Asus\\Anaconda3\\envs\\MDS\\lib\\site-packages\\sklearn\\linear_model\\logistic.py:433: FutureWarning: Default solver will be changed to 'lbfgs' in 0.22. Specify a solver to silence this warning.\n",
      "  FutureWarning)\n",
      "C:\\Users\\Asus\\Anaconda3\\envs\\MDS\\lib\\site-packages\\sklearn\\linear_model\\logistic.py:433: FutureWarning: Default solver will be changed to 'lbfgs' in 0.22. Specify a solver to silence this warning.\n",
      "  FutureWarning)\n",
      "C:\\Users\\Asus\\Anaconda3\\envs\\MDS\\lib\\site-packages\\sklearn\\linear_model\\logistic.py:433: FutureWarning: Default solver will be changed to 'lbfgs' in 0.22. Specify a solver to silence this warning.\n",
      "  FutureWarning)\n",
      "C:\\Users\\Asus\\Anaconda3\\envs\\MDS\\lib\\site-packages\\sklearn\\linear_model\\logistic.py:433: FutureWarning: Default solver will be changed to 'lbfgs' in 0.22. Specify a solver to silence this warning.\n",
      "  FutureWarning)\n",
      "C:\\Users\\Asus\\Anaconda3\\envs\\MDS\\lib\\site-packages\\sklearn\\linear_model\\logistic.py:433: FutureWarning: Default solver will be changed to 'lbfgs' in 0.22. Specify a solver to silence this warning.\n",
      "  FutureWarning)\n",
      "C:\\Users\\Asus\\Anaconda3\\envs\\MDS\\lib\\site-packages\\sklearn\\linear_model\\logistic.py:433: FutureWarning: Default solver will be changed to 'lbfgs' in 0.22. Specify a solver to silence this warning.\n",
      "  FutureWarning)\n",
      "C:\\Users\\Asus\\Anaconda3\\envs\\MDS\\lib\\site-packages\\sklearn\\linear_model\\logistic.py:433: FutureWarning: Default solver will be changed to 'lbfgs' in 0.22. Specify a solver to silence this warning.\n",
      "  FutureWarning)\n",
      "C:\\Users\\Asus\\Anaconda3\\envs\\MDS\\lib\\site-packages\\sklearn\\linear_model\\logistic.py:433: FutureWarning: Default solver will be changed to 'lbfgs' in 0.22. Specify a solver to silence this warning.\n",
      "  FutureWarning)\n",
      "C:\\Users\\Asus\\Anaconda3\\envs\\MDS\\lib\\site-packages\\sklearn\\linear_model\\logistic.py:433: FutureWarning: Default solver will be changed to 'lbfgs' in 0.22. Specify a solver to silence this warning.\n",
      "  FutureWarning)\n",
      "C:\\Users\\Asus\\Anaconda3\\envs\\MDS\\lib\\site-packages\\sklearn\\linear_model\\logistic.py:433: FutureWarning: Default solver will be changed to 'lbfgs' in 0.22. Specify a solver to silence this warning.\n",
      "  FutureWarning)\n",
      "C:\\Users\\Asus\\Anaconda3\\envs\\MDS\\lib\\site-packages\\sklearn\\linear_model\\logistic.py:433: FutureWarning: Default solver will be changed to 'lbfgs' in 0.22. Specify a solver to silence this warning.\n",
      "  FutureWarning)\n",
      "C:\\Users\\Asus\\Anaconda3\\envs\\MDS\\lib\\site-packages\\sklearn\\linear_model\\logistic.py:433: FutureWarning: Default solver will be changed to 'lbfgs' in 0.22. Specify a solver to silence this warning.\n",
      "  FutureWarning)\n",
      "C:\\Users\\Asus\\Anaconda3\\envs\\MDS\\lib\\site-packages\\sklearn\\linear_model\\logistic.py:433: FutureWarning: Default solver will be changed to 'lbfgs' in 0.22. Specify a solver to silence this warning.\n",
      "  FutureWarning)\n",
      "C:\\Users\\Asus\\Anaconda3\\envs\\MDS\\lib\\site-packages\\sklearn\\linear_model\\logistic.py:433: FutureWarning: Default solver will be changed to 'lbfgs' in 0.22. Specify a solver to silence this warning.\n",
      "  FutureWarning)\n",
      "C:\\Users\\Asus\\Anaconda3\\envs\\MDS\\lib\\site-packages\\sklearn\\linear_model\\logistic.py:433: FutureWarning: Default solver will be changed to 'lbfgs' in 0.22. Specify a solver to silence this warning.\n",
      "  FutureWarning)\n",
      "C:\\Users\\Asus\\Anaconda3\\envs\\MDS\\lib\\site-packages\\sklearn\\linear_model\\logistic.py:433: FutureWarning: Default solver will be changed to 'lbfgs' in 0.22. Specify a solver to silence this warning.\n",
      "  FutureWarning)\n",
      "C:\\Users\\Asus\\Anaconda3\\envs\\MDS\\lib\\site-packages\\sklearn\\linear_model\\logistic.py:433: FutureWarning: Default solver will be changed to 'lbfgs' in 0.22. Specify a solver to silence this warning.\n",
      "  FutureWarning)\n",
      "C:\\Users\\Asus\\Anaconda3\\envs\\MDS\\lib\\site-packages\\sklearn\\linear_model\\logistic.py:433: FutureWarning: Default solver will be changed to 'lbfgs' in 0.22. Specify a solver to silence this warning.\n",
      "  FutureWarning)\n",
      "C:\\Users\\Asus\\Anaconda3\\envs\\MDS\\lib\\site-packages\\sklearn\\linear_model\\logistic.py:433: FutureWarning: Default solver will be changed to 'lbfgs' in 0.22. Specify a solver to silence this warning.\n",
      "  FutureWarning)\n"
     ]
    },
    {
     "name": "stderr",
     "output_type": "stream",
     "text": [
      "C:\\Users\\Asus\\Anaconda3\\envs\\MDS\\lib\\site-packages\\sklearn\\linear_model\\logistic.py:433: FutureWarning: Default solver will be changed to 'lbfgs' in 0.22. Specify a solver to silence this warning.\n",
      "  FutureWarning)\n",
      "C:\\Users\\Asus\\Anaconda3\\envs\\MDS\\lib\\site-packages\\sklearn\\linear_model\\logistic.py:433: FutureWarning: Default solver will be changed to 'lbfgs' in 0.22. Specify a solver to silence this warning.\n",
      "  FutureWarning)\n",
      "C:\\Users\\Asus\\Anaconda3\\envs\\MDS\\lib\\site-packages\\sklearn\\linear_model\\logistic.py:433: FutureWarning: Default solver will be changed to 'lbfgs' in 0.22. Specify a solver to silence this warning.\n",
      "  FutureWarning)\n",
      "C:\\Users\\Asus\\Anaconda3\\envs\\MDS\\lib\\site-packages\\sklearn\\linear_model\\logistic.py:433: FutureWarning: Default solver will be changed to 'lbfgs' in 0.22. Specify a solver to silence this warning.\n",
      "  FutureWarning)\n",
      "C:\\Users\\Asus\\Anaconda3\\envs\\MDS\\lib\\site-packages\\sklearn\\linear_model\\logistic.py:433: FutureWarning: Default solver will be changed to 'lbfgs' in 0.22. Specify a solver to silence this warning.\n",
      "  FutureWarning)\n",
      "C:\\Users\\Asus\\Anaconda3\\envs\\MDS\\lib\\site-packages\\sklearn\\linear_model\\logistic.py:433: FutureWarning: Default solver will be changed to 'lbfgs' in 0.22. Specify a solver to silence this warning.\n",
      "  FutureWarning)\n",
      "C:\\Users\\Asus\\Anaconda3\\envs\\MDS\\lib\\site-packages\\sklearn\\linear_model\\logistic.py:433: FutureWarning: Default solver will be changed to 'lbfgs' in 0.22. Specify a solver to silence this warning.\n",
      "  FutureWarning)\n",
      "C:\\Users\\Asus\\Anaconda3\\envs\\MDS\\lib\\site-packages\\sklearn\\linear_model\\logistic.py:433: FutureWarning: Default solver will be changed to 'lbfgs' in 0.22. Specify a solver to silence this warning.\n",
      "  FutureWarning)\n",
      "C:\\Users\\Asus\\Anaconda3\\envs\\MDS\\lib\\site-packages\\sklearn\\linear_model\\logistic.py:433: FutureWarning: Default solver will be changed to 'lbfgs' in 0.22. Specify a solver to silence this warning.\n",
      "  FutureWarning)\n",
      "C:\\Users\\Asus\\Anaconda3\\envs\\MDS\\lib\\site-packages\\sklearn\\linear_model\\logistic.py:433: FutureWarning: Default solver will be changed to 'lbfgs' in 0.22. Specify a solver to silence this warning.\n",
      "  FutureWarning)\n",
      "C:\\Users\\Asus\\Anaconda3\\envs\\MDS\\lib\\site-packages\\sklearn\\linear_model\\logistic.py:433: FutureWarning: Default solver will be changed to 'lbfgs' in 0.22. Specify a solver to silence this warning.\n",
      "  FutureWarning)\n",
      "C:\\Users\\Asus\\Anaconda3\\envs\\MDS\\lib\\site-packages\\sklearn\\linear_model\\logistic.py:433: FutureWarning: Default solver will be changed to 'lbfgs' in 0.22. Specify a solver to silence this warning.\n",
      "  FutureWarning)\n"
     ]
    },
    {
     "data": {
      "image/png": "[encoded data removed]",
      "text/plain": [
       "<Figure size 360x216 with 1 Axes>"
      ]
     },
     "metadata": {},
     "output_type": "display_data"
    }
   ],
   "source": [
    "# Checking the convergence of the model logistic regression\n",
    "n_iter = np.linspace(1,int(len(data)/3))\n",
    "scores = np.array([])\n",
    "for n in n_iter:\n",
    "    model = LogisticRegression(max_iter=n)\n",
    "    model.fit(X_train, y_train)\n",
    "    scores = np.append(scores, model.score(X_test, y_test))\n",
    "fig = plt.figure(1, figsize=(5, 3))    \n",
    "plt.plot(n_iter, scores)\n",
    "plt.xlabel('Number of iterations')\n",
    "plt.ylabel('Accuracy')\n",
    "plt.show()"
   ]
  },
  {
   "cell_type": "raw",
   "metadata": {},
   "source": [
    "Nous nous en déduit que notre modèle devient stable en terme d'acuracy qu'à partir de 2000 itérations dont nous l'avons garder dans algorthme d'apprentissage."
   ]
  },
  {
   "cell_type": "code",
   "execution_count": 31,
   "metadata": {},
   "outputs": [],
   "source": [
    "#import sklearn\n",
    "#modelcv=sklearn.linear_model.LogisticRegressionCV( fit_intercept=True, cv=int(len(y_train)/2000),max_iter=2000)\n",
    "#modelcv.fit(X_train, y_train)\n",
    "#print(modelcv.score(X_test,y_test))"
   ]
  },
  {
   "cell_type": "markdown",
   "metadata": {},
   "source": [
    "#  choix de paramètres de notre algorithme de l'Arbre De Décision"
   ]
  },
  {
   "cell_type": "code",
   "execution_count": 32,
   "metadata": {},
   "outputs": [
    {
     "data": {
      "image/png": "[encoded data removed]",
      "text/plain": [
       "<Figure size 432x216 with 1 Axes>"
      ]
     },
     "metadata": {},
     "output_type": "display_data"
    }
   ],
   "source": [
    "# Checking the convergence of the model DecisionTreeClassifier\n",
    "n_iter = np.linspace(1,9)\n",
    "scores = np.array([])\n",
    "for n in n_iter:\n",
    "    # Create Decision Tree classifer object\n",
    "    clf = DecisionTreeClassifier(criterion=\"entropy\", max_depth=n)\n",
    "    clf.fit(X_train, y_train)\n",
    "    scores = np.append(scores, clf.score(X_test, y_test))\n",
    "fig = plt.figure(1, figsize=(6, 3))    \n",
    "plt.plot(n_iter, scores)\n",
    "plt.xlabel('Number of iterations')\n",
    "plt.ylabel('Accuracy')\n",
    "plt.show()"
   ]
  },
  {
   "cell_type": "raw",
   "metadata": {},
   "source": [
    "Nous remarquons que la profondeur la plus performante en terme du score d'accuracy est 9\n",
    "nous prenons comme paramètre nombre de profondeur 9"
   ]
  },
  {
   "cell_type": "markdown",
   "metadata": {},
   "source": [
    "# Checking the convergence of the model KNN"
   ]
  },
  {
   "cell_type": "code",
   "execution_count": 33,
   "metadata": {},
   "outputs": [
    {
     "data": {
      "image/png": "[encoded data removed]",
      "text/plain": [
       "<Figure size 360x216 with 1 Axes>"
      ]
     },
     "metadata": {},
     "output_type": "display_data"
    }
   ],
   "source": [
    "\n",
    "n = list(range(1,20))\n",
    "scores = np.array([])\n",
    "for k in n:\n",
    "    knn = KNeighborsClassifier(n_neighbors=k)\n",
    "    knn.fit(X_train, y_train)\n",
    "    scores = np.append(scores, knn.score(X_test, y_test))\n",
    "fig = plt.figure(1, figsize=(5, 3))    \n",
    "plt.plot(n, scores)\n",
    "plt.xlabel('Number of iterations')\n",
    "plt.ylabel('Accuracy')\n",
    "plt.show()#  choix de paramètres de notre algorithme de KPPV"
   ]
  },
  {
   "cell_type": "raw",
   "metadata": {},
   "source": [
    "Nous remarquons que le nombre des voisins le plus performant en terme du score d'accuracy est de 8\n",
    "nous prenons comme paramètre nombre de voisin =8"
   ]
  },
  {
   "cell_type": "markdown",
   "metadata": {},
   "source": [
    "## Step7-Apprentissage."
   ]
  },
  {
   "cell_type": "raw",
   "metadata": {},
   "source": [
    "Nous présentons dans cette partie les différents algorithmes d'apprentissage mis en place afin de classifier les données "
   ]
  },
  {
   "cell_type": "code",
   "execution_count": 42,
   "metadata": {},
   "outputs": [
    {
     "name": "stderr",
     "output_type": "stream",
     "text": [
      "C:\\Users\\Asus\\Anaconda3\\envs\\MDS\\lib\\site-packages\\sklearn\\linear_model\\logistic.py:433: FutureWarning: Default solver will be changed to 'lbfgs' in 0.22. Specify a solver to silence this warning.\n",
      "  FutureWarning)\n"
     ]
    },
    {
     "data": {
      "text/plain": [
       "LogisticRegression(C=1.0, class_weight=None, dual=False, fit_intercept=True,\n",
       "          intercept_scaling=1, max_iter=2000, multi_class='warn',\n",
       "          n_jobs=None, penalty='l2', random_state=None, solver='warn',\n",
       "          tol=0.0001, verbose=0, warm_start=False)"
      ]
     },
     "execution_count": 42,
     "metadata": {},
     "output_type": "execute_result"
    }
   ],
   "source": [
    "#appel à l'algorithme du modèle Régression linéaire\n",
    "Linear_reg= LogisticRegression(max_iter=2000)\n",
    "# Fit du modèle Régression linéaire apprentissage du modèle\n",
    "Linear_reg.fit(X_train, y_train)"
   ]
  },
  {
   "cell_type": "code",
   "execution_count": 43,
   "metadata": {},
   "outputs": [
    {
     "data": {
      "text/plain": [
       "KNeighborsClassifier(algorithm='auto', leaf_size=30, metric='minkowski',\n",
       "           metric_params=None, n_jobs=None, n_neighbors=8, p=2,\n",
       "           weights='uniform')"
      ]
     },
     "execution_count": 43,
     "metadata": {},
     "output_type": "execute_result"
    }
   ],
   "source": [
    "#appel à l'algorithme du modèle KPPV\n",
    "knn = KNeighborsClassifier(n_neighbors=8)\n",
    "# Fit du modèle KPPV apprentissage du modèle\n",
    "knn.fit(X_train, y_train)"
   ]
  },
  {
   "cell_type": "code",
   "execution_count": 44,
   "metadata": {},
   "outputs": [
    {
     "data": {
      "text/plain": [
       "DecisionTreeClassifier(class_weight=None, criterion='entropy', max_depth=9,\n",
       "            max_features=None, max_leaf_nodes=None,\n",
       "            min_impurity_decrease=0.0, min_impurity_split=None,\n",
       "            min_samples_leaf=1, min_samples_split=2,\n",
       "            min_weight_fraction_leaf=0.0, presort=False, random_state=None,\n",
       "            splitter='best')"
      ]
     },
     "execution_count": 44,
     "metadata": {},
     "output_type": "execute_result"
    }
   ],
   "source": [
    "#appel à l'algorithme du modèle tree\n",
    "Tree = DecisionTreeClassifier(criterion=\"entropy\", max_depth=9)\n",
    "# Fit du modèle tree apprentissage du modèle\n",
    "Tree.fit(X_train, y_train)"
   ]
  },
  {
   "cell_type": "markdown",
   "metadata": {},
   "source": [
    "## Step8-Prediction."
   ]
  },
  {
   "cell_type": "raw",
   "metadata": {},
   "source": [
    "À ce stade nous allons prédire le High_risk_death de notre partie test afin de vérifier par la suite la performance de nos modèle en les comparons avec les valeurs observé réellement."
   ]
  },
  {
   "cell_type": "code",
   "execution_count": 45,
   "metadata": {},
   "outputs": [],
   "source": [
    "# Use the .predict() method to make predictions from the X_test subset pour le KPPV et régression logistique\n",
    "Y_pred_knn = knn.predict(X_test)\n",
    "Y_pred_Linearreg = Linear_reg.predict(X_test)\n",
    "Y_pred_Tree = Tree.predict(X_test)"
   ]
  },
  {
   "cell_type": "markdown",
   "metadata": {},
   "source": [
    "## Step9- Validation par des mesures de performances ex: loss function, acuracy, etc"
   ]
  },
  {
   "cell_type": "raw",
   "metadata": {},
   "source": [
    "Nous commençons par l'illustration des rapport de classification ainsi que la matrice de confusion élaborés pour les modèles mis en place"
   ]
  },
  {
   "cell_type": "code",
   "execution_count": 51,
   "metadata": {},
   "outputs": [
    {
     "name": "stdout",
     "output_type": "stream",
     "text": [
      "              precision    recall  f1-score   support\n",
      "\n",
      "           0       0.91      1.00      0.95     28033\n",
      "           1       0.89      0.14      0.25      3075\n",
      "\n",
      "   micro avg       0.91      0.91      0.91     31108\n",
      "   macro avg       0.90      0.57      0.60     31108\n",
      "weighted avg       0.91      0.91      0.88     31108\n",
      "\n"
     ]
    }
   ],
   "source": [
    "# illustration des rapport de classification KPPV\n",
    "print(classification_report(y_test, Y_pred_knn))"
   ]
  },
  {
   "cell_type": "code",
   "execution_count": 54,
   "metadata": {},
   "outputs": [
    {
     "name": "stdout",
     "output_type": "stream",
     "text": [
      "              precision    recall  f1-score   support\n",
      "\n",
      "           0       0.93      0.98      0.95     28033\n",
      "           1       0.63      0.31      0.42      3075\n",
      "\n",
      "   micro avg       0.91      0.91      0.91     31108\n",
      "   macro avg       0.78      0.65      0.69     31108\n",
      "weighted avg       0.90      0.91      0.90     31108\n",
      "\n"
     ]
    }
   ],
   "source": [
    "# illustration des rapport de classification Regression logistique\n",
    "print(classification_report(y_test, Y_pred_Linearreg))"
   ]
  },
  {
   "cell_type": "code",
   "execution_count": 55,
   "metadata": {},
   "outputs": [
    {
     "name": "stdout",
     "output_type": "stream",
     "text": [
      "              precision    recall  f1-score   support\n",
      "\n",
      "           0       0.95      0.98      0.96     28033\n",
      "           1       0.74      0.52      0.61      3075\n",
      "\n",
      "   micro avg       0.93      0.93      0.93     31108\n",
      "   macro avg       0.84      0.75      0.79     31108\n",
      "weighted avg       0.93      0.93      0.93     31108\n",
      "\n"
     ]
    }
   ],
   "source": [
    "# illustration des rapport de classification Arbre de décision\n",
    "print(classification_report(y_test, Y_pred_Tree))"
   ]
  },
  {
   "cell_type": "code",
   "execution_count": 82,
   "metadata": {},
   "outputs": [
    {
     "name": "stdout",
     "output_type": "stream",
     "text": [
      "TP - True Negative 27980\n",
      "FP - False Positive 53\n",
      "FN - False Negative 2635\n",
      "TP - True Positive 440\n",
      "Accuracy Rate: 0.9135913591359136\n",
      "Misclassification Rate: 0.08640864086408641\n"
     ]
    }
   ],
   "source": [
    "#illustration de la matrice de confusion KPPV\n",
    "cmat = confusion_matrix(y_test, Y_pred_knn)\n",
    "#print(cmat)\n",
    "print('TP - True Negative {}'.format(cmat[0,0]))\n",
    "print('FP - False Positive {}'.format(cmat[0,1]))\n",
    "print('FN - False Negative {}'.format(cmat[1,0]))\n",
    "print('TP - True Positive {}'.format(cmat[1,1]))\n",
    "print('Accuracy Rate: {}'.format(np.divide(np.sum([cmat[0,0],cmat[1,1]]),np.sum(cmat))))\n",
    "print('Misclassification Rate: {}'.format(np.divide(np.sum([cmat[0,1],cmat[1,0]]),np.sum(cmat))))"
   ]
  },
  {
   "cell_type": "code",
   "execution_count": 57,
   "metadata": {},
   "outputs": [
    {
     "name": "stdout",
     "output_type": "stream",
     "text": [
      "TP - True Negative 27471\n",
      "FP - False Positive 562\n",
      "FN - False Negative 2110\n",
      "TP - True Positive 965\n",
      "Accuracy Rate: 0.9141056962839141\n",
      "Misclassification Rate: 0.08589430371608589\n"
     ]
    }
   ],
   "source": [
    "#illustration de la matrice de confusion Régression logistique\n",
    "cmat = confusion_matrix(y_test, Y_pred_Linearreg)\n",
    "#print(cmat)\n",
    "print('TP - True Negative {}'.format(cmat[0,0]))\n",
    "print('FP - False Positive {}'.format(cmat[0,1]))\n",
    "print('FN - False Negative {}'.format(cmat[1,0]))\n",
    "print('TP - True Positive {}'.format(cmat[1,1]))\n",
    "print('Accuracy Rate: {}'.format(np.divide(np.sum([cmat[0,0],cmat[1,1]]),np.sum(cmat))))\n",
    "print('Misclassification Rate: {}'.format(np.divide(np.sum([cmat[0,1],cmat[1,0]]),np.sum(cmat))))"
   ]
  },
  {
   "cell_type": "code",
   "execution_count": 79,
   "metadata": {},
   "outputs": [
    {
     "name": "stdout",
     "output_type": "stream",
     "text": [
      "TP - True Negative 27465\n",
      "FP - False Positive 568\n",
      "FN - False Negative 1477\n",
      "TP - True Positive 1598\n",
      "Accuracy Rate: 0.9342612832711843\n",
      "Misclassification Rate: 0.06573871672881573\n",
      "[[27465   568]\n",
      " [ 1477  1598]]\n"
     ]
    }
   ],
   "source": [
    "#illustration de la matrice de confusion Régression logistique\n",
    "cmat = confusion_matrix(y_test, Y_pred_Tree)\n",
    "#print(cmat)\n",
    "print('TP - True Negative {}'.format(cmat[0,0]))\n",
    "print('FP - False Positive {}'.format(cmat[0,1]))\n",
    "print('FN - False Negative {}'.format(cmat[1,0]))\n",
    "print('TP - True Positive {}'.format(cmat[1,1]))\n",
    "print('Accuracy Rate: {}'.format(np.divide(np.sum([cmat[0,0],cmat[1,1]]),np.sum(cmat))))\n",
    "print('Misclassification Rate: {}'.format(np.divide(np.sum([cmat[0,1],cmat[1,0]]),np.sum(cmat))))\n",
    "print(cmat)"
   ]
  },
  {
   "cell_type": "code",
   "execution_count": 61,
   "metadata": {},
   "outputs": [
    {
     "name": "stdout",
     "output_type": "stream",
     "text": [
      "TP - True Negative 27980\n",
      "FP - False Positive 53\n",
      "FN - False Negative 2635\n",
      "TP - True Positive 440\n",
      "Accuracy Rate: 0.9135913591359136\n",
      "Misclassification Rate: 0.08640864086408641\n"
     ]
    }
   ],
   "source": [
    "#illustration de la matrice de confusion Régression logistique\n",
    "cmat = confusion_matrix(y_test, Y_pred_knn)\n",
    "#print(cmat)\n",
    "print('TP - True Negative {}'.format(cmat[0,0]))\n",
    "print('FP - False Positive {}'.format(cmat[0,1]))\n",
    "print('FN - False Negative {}'.format(cmat[1,0]))\n",
    "print('TP - True Positive {}'.format(cmat[1,1]))\n",
    "print('Accuracy Rate: {}'.format(np.divide(np.sum([cmat[0,0],cmat[1,1]]),np.sum(cmat))))\n",
    "print('Misclassification Rate: {}'.format(np.divide(np.sum([cmat[0,1],cmat[1,0]]),np.sum(cmat))))"
   ]
  },
  {
   "cell_type": "code",
   "execution_count": 64,
   "metadata": {},
   "outputs": [
    {
     "name": "stdout",
     "output_type": "stream",
     "text": [
      "0.8924949290060852 0.6319580877537656 0.7377654662973222\n"
     ]
    }
   ],
   "source": [
    "#The precision score for the survived passengers is decent (see below) but not good enough for our specific problem that requires precision to be as high as possible.\n",
    "# Printing the precision score for survived passengers\n",
    "\n",
    "print(sklearn.metrics.precision_score(y_test,  Y_pred_knn),\n",
    "sklearn.metrics.precision_score(y_test, Y_pred_Linearreg),\n",
    "sklearn.metrics.precision_score(y_test, Y_pred_Tree))"
   ]
  },
  {
   "cell_type": "code",
   "execution_count": 76,
   "metadata": {},
   "outputs": [
    {
     "data": {
      "image/png": "[encoded data removed]",
      "text/plain": [
       "<Figure size 432x288 with 1 Axes>"
      ]
     },
     "metadata": {},
     "output_type": "display_data"
    }
   ],
   "source": [
    "# Plotting the Precision-Recall curve Linear Regression\n",
    "y_proba_train_Logreg = Linear_reg.predict_proba(X_train)[:, 1]\n",
    "p, r, t = sklearn.metrics.precision_recall_curve(y_train, y_proba_train_Logreg)\n",
    "# Plotting the Precision-Recall curve Tree\n",
    "y_proba_train_Tree = Tree.predict_proba(X_train)[:, 1]\n",
    "p1, r1, t1 = sklearn.metrics.precision_recall_curve(y_train, y_proba_train_Tree)\n",
    "# Plotting the Precision-Recall curve knn\n",
    "y_proba_train_knn = knn.predict_proba(X_train)[:, 1]\n",
    "p2, r2, t2 = sklearn.metrics.precision_recall_curve(y_train, y_proba_train_knn)\n",
    "\n",
    "\n",
    "plt.subplot()\n",
    "plt.plot(r,p, \"b\",label=\"Logistic Regression\")\n",
    "plt.plot(r1,p1, \"k\",label=\"TreeClassifier\")\n",
    "plt.plot(r2,p2, \"r--\",label=\"KNN\")\n",
    "plt.legend()\n",
    "plt.xlabel('Recall')\n",
    "plt.ylabel('Precision')\n",
    "plt.show()"
   ]
  },
  {
   "cell_type": "raw",
   "metadata": {},
   "source": [
    "Après avoir comparer les résultats des 3 modèles en terme de precision recall, accuracy et score nous constatons que le modèle le plus optimal c'est l'arbre de décision dans notre cas poursuivie du KPPV et par la fin on cite la regression logistique"
   ]
  }
 ],
 "metadata": {
  "kernelspec": {
   "display_name": "MDS",
   "language": "python",
   "name": "mds"
  },
  "language_info": {
   "codemirror_mode": {
    "name": "ipython",
    "version": 3
   },
   "file_extension": ".py",
   "mimetype": "text/x-python",
   "name": "python",
   "nbconvert_exporter": "python",
   "pygments_lexer": "ipython3",
   "version": "3.6.8"
  }
 },
 "nbformat": 4,
 "nbformat_minor": 2
}
